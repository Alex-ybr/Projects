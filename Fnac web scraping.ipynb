{
 "cells": [
  {
   "cell_type": "code",
   "execution_count": null,
   "id": "b303ea67-0a0e-4188-9d8f-ef9132a12022",
   "metadata": {},
   "outputs": [],
   "source": [
    "from selenium import webdriver\n",
    "from selenium.webdriver.common.by import By\n",
    "from selenium.webdriver.common.keys import Keys\n",
    "from selenium.webdriver.support.ui import WebDriverWait\n",
    "from selenium.webdriver.support import expected_conditions as EC\n",
    "import time\n",
    "\n",
    "\n",
    "driver = webdriver.Firefox()\n",
    "\n",
    "\n",
    "driver.get('https://www.fnac.com/')\n",
    "\n",
    "\n",
    "time.sleep(5)\n",
    "\n",
    "try:\n",
    "    accept_cookies = WebDriverWait(driver, 10).until(\n",
    "        EC.element_to_be_clickable((By.XPATH, '//button[contains(text(), \"Accepter\")]'))\n",
    "    )\n",
    "    accept_cookies.click()\n",
    "except:\n",
    "    pass\n",
    "\n",
    "search_field = driver.find_element(By.XPATH, '//input[@id=\"Fnac_Search\"]')\n",
    "search_field.clear()\n",
    "search_field.send_keys('livres fantastiques')\n",
    "\n",
    "\n",
    "search_field.send_keys(Keys.RETURN)\n",
    "\n",
    "time.sleep(5)\n",
    "\n",
    "books = driver.find_elements(By.XPATH, '//div[@class=\"Article-item js-Search-hashLinkId\"]')\n",
    "\n",
    "for book in books:\n",
    "    try:\n",
    "        title = book.find_element(By.XPATH, './/a[@class=\"Article-title js-Search-hashLinkId\"]').text\n",
    "        price = book.find_element(By.XPATH, './/span[@class=\"userPrice\"]').text\n",
    "        author = book.find_element(By.XPATH, './/div[@class=\"Article-descSub\"]').text\n",
    "        print(f\"Title: {title}, Price: {price}, Author: {author}\")\n",
    "    except Exception as e:\n",
    "        print(f\"Error extracting book: {e}\")\n",
    "        continue\n",
    "\n",
    "driver.quit()\n"
   ]
  }
 ],
 "metadata": {
  "kernelspec": {
   "display_name": "Python 3 (ipykernel)",
   "language": "python",
   "name": "python3"
  },
  "language_info": {
   "codemirror_mode": {
    "name": "ipython",
    "version": 3
   },
   "file_extension": ".py",
   "mimetype": "text/x-python",
   "name": "python",
   "nbconvert_exporter": "python",
   "pygments_lexer": "ipython3",
   "version": "3.12.4"
  }
 },
 "nbformat": 4,
 "nbformat_minor": 5
}
